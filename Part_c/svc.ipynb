{
 "cells": [
  {
   "cell_type": "code",
   "execution_count": null,
   "metadata": {},
   "outputs": [],
   "source": [
    "import os\n",
    "import numpy as np \n",
    "import cv2\n",
    "import torch\n",
    "import torch.nn as nn\n",
    "from torchvision import models\n",
    "from torch.autograd import Variable\n",
    "from sklearn.decomposition import PCA\n",
    "from sklearn import svm\n",
    "from sklearn.model_selection import StratifiedKFold  "
   ]
  },
  {
   "cell_type": "code",
   "execution_count": null,
   "metadata": {},
   "outputs": [],
   "source": [
    "def read_images(path, folders):\n",
    "    images = []\n",
    "    labels = []\n",
    "    idx = 0\n",
    "    for folder in folders:\n",
    "        for filename in os.listdir(path+folder):\n",
    "            image = cv2.imread(os.path.join(path+folder, filename))\n",
    "            if image is not None:\n",
    "                images.append(image)\n",
    "                labels.append(idx)\n",
    "                \n",
    "        idx += 1\n",
    "    images = np.array(images)\n",
    "    labels = np.array(labels)\n",
    "    return images, labels\n",
    "\n",
    "def getDescriptors(images, labels, model) : \n",
    "    features = []\n",
    "    image_labels = []\n",
    "    i = 0\n",
    "\n",
    "    for image in images : \n",
    "        # Re-sizing the image\n",
    "        image = cv2.normalize(image, None, alpha=0, beta=1, norm_type=cv2.NORM_MINMAX, dtype=cv2.CV_32F)\n",
    "        if (image.shape[2] == 1):\n",
    "            image = cv2.cvtColor(image,cv2.COLOR_GRAY2RGB)\n",
    "        image = cv2.resize(image, (224, 224), interpolation=cv2.INTER_AREA)\n",
    "        image = image.transpose(2, 1, 0)\n",
    "        image = Variable(torch.Tensor(image))\n",
    "        image = image.unsqueeze(0)\n",
    "        feature = model(image)\n",
    "        feature = feature.data.numpy().reshape(1000)\n",
    "        if feature is not None : \n",
    "            features.append(feature)\n",
    "            image_labels.append(labels[i])\n",
    "        i += 1\n",
    "        print (feature)\n",
    "\n",
    "    features = np.asarray(features)\n",
    "    return features, image_labels"
   ]
  },
  {
   "cell_type": "code",
   "execution_count": null,
   "metadata": {},
   "outputs": [],
   "source": [
    "model = models.alexnet(pretrained=True)\n",
    "new_classifier = nn.Sequential(*list(model.classifier.children()))\n",
    "model.classifier = new_classifier\n",
    "model.eval()"
   ]
  },
  {
   "cell_type": "code",
   "execution_count": null,
   "metadata": {},
   "outputs": [],
   "source": [
    "root = \"directory/101_ObjectCategories/\"\n",
    "\n",
    "set_images = [ item for item in os.listdir(root) if os.path.isdir(os.path.join(root, item)) ]\n",
    "images, labels = read_images(root, set_images)"
   ]
  },
  {
   "cell_type": "code",
   "execution_count": null,
   "metadata": {},
   "outputs": [],
   "source": [
    "features, image_labels = getDescriptors(images, labels, model)"
   ]
  },
  {
   "cell_type": "code",
   "execution_count": null,
   "metadata": {},
   "outputs": [],
   "source": [
    "pca = PCA(n_components = 0.9) \n",
    "features = pca.fit_transform(features) \n",
    "print(features)"
   ]
  },
  {
   "cell_type": "code",
   "execution_count": null,
   "metadata": {},
   "outputs": [],
   "source": [
    "features = np.asarray(features)\n",
    "image_labels = np.asarray(image_labels)\n",
    "\n",
    "md = svm.SVC(kernel='linear')\n",
    "cv = StratifiedKFold(n_splits=6, random_state=42)\n",
    "\n",
    "scores = []\n",
    "count = 0\n",
    "for train_ind, validate_ind in cv.split(features, image_labels):\n",
    "    print(\"CV # - \", count)\n",
    "    count += 1\n",
    "    train_X, train_y = X[train_ind], y[train_ind]\n",
    "    validate_X, validate_y = X[validate_ind], y[validate_ind]\n",
    "    md.fit(train_X, train_y)\n",
    "    score = md.score(validate_X, validate_y)\n",
    "    scores.append(score)\n",
    "\n",
    "sc = np.array(scores)\n",
    "print(sc)\n",
    "print(\"Score: \" + str(np.mean(sc)))"
   ]
  }
 ],
 "metadata": {
  "kernelspec": {
   "display_name": "Python [conda env:.conda-pytorch] *",
   "language": "python",
   "name": "conda-env-.conda-pytorch-py"
  },
  "language_info": {
   "codemirror_mode": {
    "name": "ipython",
    "version": 3
   },
   "file_extension": ".py",
   "mimetype": "text/x-python",
   "name": "python",
   "nbconvert_exporter": "python",
   "pygments_lexer": "ipython3",
   "version": "3.7.6"
  }
 },
 "nbformat": 4,
 "nbformat_minor": 4
}
