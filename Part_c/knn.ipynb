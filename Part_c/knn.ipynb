{
 "cells": [
  {
   "cell_type": "code",
   "execution_count": null,
   "metadata": {},
   "outputs": [],
   "source": [
    "import os\n",
    "import numpy as np \n",
    "import cv2\n",
    "import torch\n",
    "import torch.nn as nn\n",
    "from torchvision import models\n",
    "from torch.autograd import Variable\n",
    "from sklearn.decomposition import PCA"
   ]
  },
  {
   "cell_type": "code",
   "execution_count": null,
   "metadata": {},
   "outputs": [],
   "source": [
    "def read_images(path, folders):\n",
    "    images = []\n",
    "    labels = []\n",
    "    idx = 0\n",
    "    for folder in folders:\n",
    "        for filename in os.listdir(path+folder):\n",
    "            image = cv2.imread(os.path.join(path+folder, filename))\n",
    "            if image is not None:\n",
    "                images.append(image)\n",
    "                labels.append(idx)\n",
    "                \n",
    "        idx += 1\n",
    "    images = np.array(images)\n",
    "    labels = np.array(labels)\n",
    "    return images, labels\n",
    "\n",
    "def getDescriptors(images, labels, model) : \n",
    "    features = []\n",
    "    image_labels = []\n",
    "    i = 0\n",
    "\n",
    "    for image in images : \n",
    "        # Re-sizing the image\n",
    "        image = cv2.normalize(image, None, alpha=0, beta=1, norm_type=cv2.NORM_MINMAX, dtype=cv2.CV_32F)\n",
    "        image = cv2.resize(image, (224, 224), interpolation=cv2.INTER_AREA)\n",
    "        image = image.transpose(2, 1, 0)\n",
    "        image = Variable(torch.Tensor(image))\n",
    "        image = image.unsqueeze(0)\n",
    "        feature = model(image)\n",
    "        if feature is not None : \n",
    "            features.append(feature)\n",
    "            image_labels.append(labels[i])\n",
    "        i += 1\n",
    "        print (feature)\n",
    "\n",
    "        \n",
    "    return features, image_labels"
   ]
  },
  {
   "cell_type": "code",
   "execution_count": null,
   "metadata": {},
   "outputs": [],
   "source": [
    "model = models.alexnet(pretrained=True)\n",
    "new_classifier = nn.Sequential(*list(model.classifier.children())[:-1])\n",
    "model.classifier = new_classifier\n",
    "model.eval()"
   ]
  },
  {
   "cell_type": "code",
   "execution_count": null,
   "metadata": {},
   "outputs": [],
   "source": [
    "root = \"/home/slr/Desktop/vr/Assignments/Feature-Learning/101_ObjectCategories/\"\n",
    "\n",
    "set_images = [ item for item in os.listdir(root) if os.path.isdir(os.path.join(root, item)) ]\n",
    "images, labels = read_images(root, set_images)"
   ]
  },
  {
   "cell_type": "code",
   "execution_count": null,
   "metadata": {},
   "outputs": [],
   "source": [
    "features, image_labels = getDescriptors(images, labels, model)"
   ]
  },
  {
   "cell_type": "code",
   "execution_count": null,
   "metadata": {},
   "outputs": [],
   "source": [
    "pca = PCA(n_components = 0.9) \n",
    "features = pca.fit_transform(features) "
   ]
  },
  {
   "cell_type": "code",
   "execution_count": null,
   "metadata": {},
   "outputs": [],
   "source": [
    "# k = 50\n",
    "# visDic = MiniBatchKMeans(init='k-means++',\n",
    "#                             n_clusters=50,\n",
    "#                             max_iter=1000,\n",
    "#                             batch_size=1000, \n",
    "#                             n_init=10, \n",
    "#                             max_no_improvement=10, \n",
    "#                             verbose=0).fit(alexnet_des)\n",
    "\n",
    "\n",
    "x_train, x_test, y_train, y_test = train_test_split(features, \n",
    "                                                    image_labels, \n",
    "                                                    test_size=0.1, \n",
    "                                                    random_state=4)\n"
   ]
  },
  {
   "cell_type": "code",
   "execution_count": null,
   "metadata": {},
   "outputs": [],
   "source": [
    "clf = cv2.ml.KNearest_create()\n",
    "clf.train(x_train, cv2.ml.ROW_SAMPLE, np.asarray(y_train, dtype=np.float32))"
   ]
  },
  {
   "cell_type": "code",
   "execution_count": null,
   "metadata": {},
   "outputs": [],
   "source": [
    "ret, results, neighbours ,dist = clf.findNearest(x_test, k=10)"
   ]
  },
  {
   "cell_type": "code",
   "execution_count": null,
   "metadata": {},
   "outputs": [],
   "source": [
    "pred_label = []\n",
    "for var in results:\n",
    "    label = var\n",
    "    pred_label.append(int(label))\n",
    "\n",
    "print (y_test)\n",
    "print (pred_label)\n",
    "    \n",
    "# Measuring the accuracies\n",
    "metrics.accuracy_score(y_test, pred_label)"
   ]
  }
 ],
 "metadata": {
  "kernelspec": {
   "display_name": "Python [conda env:.conda-pytorch] *",
   "language": "python",
   "name": "conda-env-.conda-pytorch-py"
  },
  "language_info": {
   "codemirror_mode": {
    "name": "ipython",
    "version": 3
   },
   "file_extension": ".py",
   "mimetype": "text/x-python",
   "name": "python",
   "nbconvert_exporter": "python",
   "pygments_lexer": "ipython3",
   "version": "3.7.6"
  }
 },
 "nbformat": 4,
 "nbformat_minor": 2
}
