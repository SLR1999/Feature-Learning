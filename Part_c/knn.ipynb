{
 "cells": [
  {
   "cell_type": "code",
   "execution_count": 1,
   "metadata": {},
   "outputs": [],
   "source": [
    "import os\n",
    "import numpy as np \n",
    "import cv2\n",
    "import torch\n",
    "import torch.nn as nn\n",
    "from torchvision import models\n",
    "from torch.autograd import Variable\n",
    "from sklearn.decomposition import PCA\n",
    "from sklearn.model_selection import train_test_split\n",
    "from sklearn.metrics import accuracy_score"
   ]
  },
  {
   "cell_type": "code",
   "execution_count": 2,
   "metadata": {},
   "outputs": [],
   "source": [
    "def load_list(filename):\n",
    "    final_list = []\n",
    "    with open(filename, 'r') as filehandle:\n",
    "        for line in filehandle:\n",
    "            currentPlace = line[:-1]\n",
    "            final_list.append(currentPlace)\n",
    "    return final_list"
   ]
  },
  {
   "cell_type": "code",
   "execution_count": 3,
   "metadata": {},
   "outputs": [],
   "source": [
    "def save_list(list_name, filename) : \n",
    "    with open(filename, 'w') as filehandle:\n",
    "        for listitem in list_name:\n",
    "            filehandle.write('%s\\n' % listitem)"
   ]
  },
  {
   "cell_type": "code",
   "execution_count": null,
   "metadata": {},
   "outputs": [],
   "source": [
    "def read_images(path, folders):\n",
    "    images = []\n",
    "    labels = []\n",
    "    idx = 0\n",
    "    for folder in folders:\n",
    "        for filename in os.listdir(path+folder):\n",
    "            image = cv2.imread(os.path.join(path+folder, filename))\n",
    "            if image is not None:\n",
    "                images.append(image)\n",
    "                labels.append(idx)\n",
    "                \n",
    "        idx += 1\n",
    "    images = np.array(images)\n",
    "    labels = np.array(labels)\n",
    "    return images, labels\n",
    "\n",
    "def getDescriptors(images, labels, model) : \n",
    "    features = []\n",
    "    image_labels = []\n",
    "    i = 0\n",
    "\n",
    "    for image in images : \n",
    "        # Re-sizing the image\n",
    "        image = cv2.normalize(image, None, alpha=0, beta=1, norm_type=cv2.NORM_MINMAX, dtype=cv2.CV_32F)\n",
    "        if (image.shape[2] == 1):\n",
    "            image = cv2.cvtColor(image,cv2.COLOR_GRAY2RGB)\n",
    "        image = cv2.resize(image, (224, 224), interpolation=cv2.INTER_AREA)\n",
    "        print (image.shape)\n",
    "        image = image.transpose(2, 1, 0)\n",
    "        image = Variable(torch.Tensor(image))\n",
    "        image = image.unsqueeze(0)\n",
    "        feature = model(image)\n",
    "        feature = feature.data.numpy().reshape(1000)\n",
    "        if feature is not None : \n",
    "            features.append(feature)\n",
    "            image_labels.append(labels[i])\n",
    "        i += 1\n",
    "        print (feature)\n",
    "\n",
    "    features = np.asarray(features)\n",
    "    return features, image_labels"
   ]
  },
  {
   "cell_type": "code",
   "execution_count": null,
   "metadata": {},
   "outputs": [],
   "source": [
    "model = models.alexnet(pretrained=True)\n",
    "new_classifier = nn.Sequential(*list(model.classifier.children()))\n",
    "model.classifier = new_classifier\n",
    "model.eval()"
   ]
  },
  {
   "cell_type": "code",
   "execution_count": null,
   "metadata": {},
   "outputs": [],
   "source": [
    "root = \"/home/slr/Desktop/vr/Assignments/Feature-Learning/Part_c/101_ObjectCategories/\"\n",
    "set_images = [ item for item in os.listdir(root) if os.path.isdir(os.path.join(root, item)) ]\n",
    "images, labels = read_images(root, set_images)"
   ]
  },
  {
   "cell_type": "code",
   "execution_count": null,
   "metadata": {},
   "outputs": [],
   "source": [
    "features, image_labels = getDescriptors(images, labels, model)"
   ]
  },
  {
   "cell_type": "code",
   "execution_count": null,
   "metadata": {},
   "outputs": [],
   "source": [
    "save_list(features,\"features_with_last.txt\")\n",
    "save_list(image_labels,\"labels_with_last.txt\")"
   ]
  },
  {
   "cell_type": "code",
   "execution_count": null,
   "metadata": {},
   "outputs": [],
   "source": [
    "pca = PCA(n_components = 0.9) \n",
    "features = pca.fit_transform(features) \n",
    "print(features)"
   ]
  },
  {
   "cell_type": "code",
   "execution_count": null,
   "metadata": {},
   "outputs": [],
   "source": [
    "x_train, x_test, y_train, y_test = train_test_split(features, \n",
    "                                                    image_labels, \n",
    "                                                    test_size=0.1, \n",
    "                                                    random_state=4)\n"
   ]
  },
  {
   "cell_type": "code",
   "execution_count": null,
   "metadata": {},
   "outputs": [],
   "source": [
    "clf = cv2.ml.KNearest_create()\n",
    "clf.train(x_train, cv2.ml.ROW_SAMPLE, np.asarray(y_train, dtype=np.float32))"
   ]
  },
  {
   "cell_type": "code",
   "execution_count": null,
   "metadata": {},
   "outputs": [],
   "source": [
    "ret, results, neighbours ,dist = clf.findNearest(x_test, k=10)"
   ]
  },
  {
   "cell_type": "code",
   "execution_count": null,
   "metadata": {},
   "outputs": [],
   "source": [
    "pred_label = []\n",
    "correct_label = []\n",
    "\n",
    "for label in results:\n",
    "    pred_label.append(int(label))\n",
    "\n",
    "for label in y_test:\n",
    "    correct_label.append(int(label))\n",
    "\n",
    "print (y_test)\n",
    "print (pred_label)\n",
    "\n",
    "print (len(pred_label))\n",
    "print (len(correct_label))\n",
    "    \n",
    "accuracy_score(y_test, pred_label)"
   ]
  },
  {
   "cell_type": "code",
   "execution_count": null,
   "metadata": {},
   "outputs": [],
   "source": []
  }
 ],
 "metadata": {
  "kernelspec": {
   "display_name": "Python 3.7.4 64-bit ('base': conda)",
   "language": "python",
   "name": "python37464bitbasecondae9e723da48f3416f986d016ea0c56bb2"
  },
  "language_info": {
   "codemirror_mode": {
    "name": "ipython",
    "version": 3
   },
   "file_extension": ".py",
   "mimetype": "text/x-python",
   "name": "python",
   "nbconvert_exporter": "python",
   "pygments_lexer": "ipython3",
   "version": "3.7.4-final"
  }
 },
 "nbformat": 4,
 "nbformat_minor": 2
}